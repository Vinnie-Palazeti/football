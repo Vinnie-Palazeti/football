{
 "cells": [
  {
   "cell_type": "code",
   "execution_count": 136,
   "id": "f1083370-9c2b-45ef-ab12-781a49e45783",
   "metadata": {},
   "outputs": [],
   "source": [
    "import requests\n",
    "import pandas as pd\n",
    "import bs4\n",
    "from bs4 import BeautifulSoup"
   ]
  },
  {
   "cell_type": "code",
   "execution_count": null,
   "id": "e4068896-8f4d-4bd5-b319-91901f043e57",
   "metadata": {},
   "outputs": [],
   "source": [
    "\"\"\"\n",
    "to do:\n",
    "\n",
    "1: \n",
    "\tscrape all Stat Perform team IDs\n",
    "\tTeam Name: Team ID\n",
    "\n",
    "2:\n",
    "\tscrape the dates each team played AT HOME\t\n",
    "\tYEAR DAY MONTH\n",
    "\n",
    "3:\n",
    "\tcombine data into gamecodes\t\n",
    "\n",
    "4:\n",
    "\tformat webscrape for play - by - play\n",
    "\n",
    "\"\"\""
   ]
  },
  {
   "cell_type": "code",
   "execution_count": null,
   "id": "4c4a23b6-ce15-4755-aefb-f032964afa03",
   "metadata": {},
   "outputs": [],
   "source": [
    "# 1\n",
    "# https://nytimes.stats.com/cfb/teams.asp"
   ]
  },
  {
   "cell_type": "code",
   "execution_count": 11,
   "id": "9efe5da2-4d67-4a9e-a9ad-94f544c10610",
   "metadata": {},
   "outputs": [],
   "source": [
    "page = requests.get(\"http://sports.yourphx.com/cfb/teams.asp\")"
   ]
  },
  {
   "cell_type": "code",
   "execution_count": 16,
   "id": "4520c376-4741-432f-91aa-76a9c7c9d6d3",
   "metadata": {},
   "outputs": [],
   "source": [
    "soup = BeautifulSoup(page.text, 'html.parser')"
   ]
  },
  {
   "cell_type": "code",
   "execution_count": 130,
   "id": "e6ef4b9e-649d-4ed5-8415-5179bf84ae96",
   "metadata": {},
   "outputs": [],
   "source": [
    "team_info = dict()\n",
    "for i, n in enumerate(soup.find_all(class_='shsTable shsBorderTable')[0]):\n",
    "    if isinstance(n, bs4.element.Tag):\n",
    "        try:\n",
    "            team_num = n.find('a')['href'].partition('?team=')[2][:4]\n",
    "            team_name = n.find(class_='shs1stCol shsNamD').get_text().replace('\\xa0','-')\n",
    "            team_info.update(\n",
    "                {\n",
    "                    f'{team_name}': team_num,\n",
    "                }\n",
    "            )\n",
    "        except Exception as e:\n",
    "            print(e)\n",
    "            print(n)    "
   ]
  },
  {
   "cell_type": "code",
   "execution_count": 138,
   "id": "c0d86b84-39b6-494c-b80e-50b42b9f6fd8",
   "metadata": {},
   "outputs": [],
   "source": [
    "# team_info"
   ]
  },
  {
   "cell_type": "code",
   "execution_count": 139,
   "id": "e5380a27-e1cd-4e25-9668-f79f4fc2be43",
   "metadata": {},
   "outputs": [],
   "source": [
    "# 2\n",
    "\n",
    "page = requests.get('https://www.sports-reference.com/cfb/years/2015-schedule.html')"
   ]
  },
  {
   "cell_type": "code",
   "execution_count": 142,
   "id": "f2073251-6374-453a-9e10-9b7038ae96e8",
   "metadata": {},
   "outputs": [],
   "source": [
    "soup = BeautifulSoup(page.text)"
   ]
  },
  {
   "cell_type": "code",
   "execution_count": 150,
   "id": "4a70718a-cba1-4345-9c5f-6fe8b558ed06",
   "metadata": {},
   "outputs": [
    {
     "name": "stdout",
     "output_type": "stream",
     "text": [
      "0\n",
      "<tr><th class=\"right\" csk=\"1\" data-stat=\"ranker\" scope=\"row\">1</th><td class=\"right\" csk=\"01.Sep 3, 2015\" data-stat=\"week_number\">1</td><td class=\"left\" csk=\"2015-09-03\" data-stat=\"date_game\"><a href=\"/cfb/boxscores/2015-09-03-arizona.html\">Sep 3, 2015</a></td><td class=\"center\" data-stat=\"time_game\">10:00 PM</td><td class=\"left\" csk=\"5.2015-09-03\" data-stat=\"day_name\">Thu</td><td class=\"left\" csk=\"Arizona.2015-09-03\" data-stat=\"winner_school_name\">(22) <a href=\"/cfb/schools/arizona/2015.html\">Arizona</a></td><td class=\"right\" data-stat=\"winner_points\">42</td><td class=\"left iz\" data-stat=\"game_location\"></td><td class=\"left\" csk=\"Texas-San Antonio.2015-09-03\" data-stat=\"loser_school_name\"><a href=\"/cfb/schools/texas-san-antonio/2015.html\">Texas-San Antonio</a></td><td class=\"right\" data-stat=\"loser_points\">32</td><td class=\"left iz\" csk=\"ZZZ\" data-stat=\"notes\"></td></tr>\n",
      "1\n",
      "\n",
      "\n",
      "2\n",
      "<tr class=\"ranked\"><th class=\"right\" csk=\"2\" data-stat=\"ranker\" scope=\"row\">2</th><td class=\"right\" csk=\"01.Sep 3, 2015\" data-stat=\"week_number\">1</td><td class=\"left\" csk=\"2015-09-03\" data-stat=\"date_game\"><a href=\"/cfb/boxscores/2015-09-03-ball-state.html\">Sep 3, 2015</a></td><td class=\"center\" data-stat=\"time_game\">7:00 PM</td><td class=\"left\" csk=\"5.2015-09-03\" data-stat=\"day_name\">Thu</td><td class=\"left\" csk=\"Ball State.2015-09-03\" data-stat=\"winner_school_name\"><a href=\"/cfb/schools/ball-state/2015.html\">Ball State</a></td><td class=\"right\" data-stat=\"winner_points\">48</td><td class=\"left iz\" data-stat=\"game_location\"></td><td class=\"left\" csk=\"Virginia Military Institute.2015-09-03\" data-stat=\"loser_school_name\">Virginia Military Institute</td><td class=\"right\" data-stat=\"loser_points\">36</td><td class=\"left iz\" csk=\"ZZZ\" data-stat=\"notes\"></td></tr>\n",
      "3\n",
      "\n",
      "\n",
      "4\n",
      "<tr class=\"ranked\"><th class=\"right\" csk=\"3\" data-stat=\"ranker\" scope=\"row\">3</th><td class=\"right\" csk=\"01.Sep 3, 2015\" data-stat=\"week_number\">1</td><td class=\"left\" csk=\"2015-09-03\" data-stat=\"date_game\"><a href=\"/cfb/boxscores/2015-09-03-connecticut.html\">Sep 3, 2015</a></td><td class=\"center\" data-stat=\"time_game\">7:30 PM</td><td class=\"left\" csk=\"5.2015-09-03\" data-stat=\"day_name\">Thu</td><td class=\"left\" csk=\"Connecticut.2015-09-03\" data-stat=\"winner_school_name\"><a href=\"/cfb/schools/connecticut/2015.html\">Connecticut</a></td><td class=\"right\" data-stat=\"winner_points\">20</td><td class=\"left iz\" data-stat=\"game_location\"></td><td class=\"left\" csk=\"Villanova.2015-09-03\" data-stat=\"loser_school_name\">Villanova</td><td class=\"right\" data-stat=\"loser_points\">15</td><td class=\"left iz\" csk=\"ZZZ\" data-stat=\"notes\"></td></tr>\n",
      "5\n",
      "\n",
      "\n",
      "6\n",
      "<tr class=\"ranked\"><th class=\"right\" csk=\"4\" data-stat=\"ranker\" scope=\"row\">4</th><td class=\"right\" csk=\"01.Sep 3, 2015\" data-stat=\"week_number\">1</td><td class=\"left\" csk=\"2015-09-03\" data-stat=\"date_game\"><a href=\"/cfb/boxscores/2015-09-03-tulane.html\">Sep 3, 2015</a></td><td class=\"center\" data-stat=\"time_game\">9:30 PM</td><td class=\"left\" csk=\"5.2015-09-03\" data-stat=\"day_name\">Thu</td><td class=\"left\" csk=\"Duke.2015-09-03\" data-stat=\"winner_school_name\"><a href=\"/cfb/schools/duke/2015.html\">Duke</a></td><td class=\"right\" data-stat=\"winner_points\">37</td><td class=\"left\" data-stat=\"game_location\">@</td><td class=\"left\" csk=\"Tulane.2015-09-03\" data-stat=\"loser_school_name\"><a href=\"/cfb/schools/tulane/2015.html\">Tulane</a></td><td class=\"right\" data-stat=\"loser_points\">7</td><td class=\"left iz\" csk=\"ZZZ\" data-stat=\"notes\"></td></tr>\n",
      "7\n",
      "\n",
      "\n",
      "8\n",
      "<tr class=\"ranked\"><th class=\"right\" csk=\"5\" data-stat=\"ranker\" scope=\"row\">5</th><td class=\"right\" csk=\"01.Sep 3, 2015\" data-stat=\"week_number\">1</td><td class=\"left\" csk=\"2015-09-03\" data-stat=\"date_game\"><a href=\"/cfb/boxscores/2015-09-03-central-florida.html\">Sep 3, 2015</a></td><td class=\"center\" data-stat=\"time_game\">6:00 PM</td><td class=\"left\" csk=\"5.2015-09-03\" data-stat=\"day_name\">Thu</td><td class=\"left\" csk=\"Florida International.2015-09-03\" data-stat=\"winner_school_name\"><a href=\"/cfb/schools/florida-international/2015.html\">Florida International</a></td><td class=\"right\" data-stat=\"winner_points\">15</td><td class=\"left\" data-stat=\"game_location\">@</td><td class=\"left\" csk=\"Central Florida.2015-09-03\" data-stat=\"loser_school_name\"><a href=\"/cfb/schools/central-florida/2015.html\">Central Florida</a></td><td class=\"right\" data-stat=\"loser_points\">14</td><td class=\"left iz\" csk=\"ZZZ\" data-stat=\"notes\"></td></tr>\n",
      "9\n",
      "\n",
      "\n",
      "10\n",
      "<tr class=\"ranked\"><th class=\"right\" csk=\"6\" data-stat=\"ranker\" scope=\"row\">6</th><td class=\"right\" csk=\"01.Sep 3, 2015\" data-stat=\"week_number\">1</td><td class=\"left\" csk=\"2015-09-03\" data-stat=\"date_game\"><a href=\"/cfb/boxscores/2015-09-03-fresno-state.html\">Sep 3, 2015</a></td><td class=\"center iz\" data-stat=\"time_game\"></td><td class=\"left\" csk=\"5.2015-09-03\" data-stat=\"day_name\">Thu</td><td class=\"left\" csk=\"Fresno State.2015-09-03\" data-stat=\"winner_school_name\"><a href=\"/cfb/schools/fresno-state/2015.html\">Fresno State</a></td><td class=\"right\" data-stat=\"winner_points\">34</td><td class=\"left iz\" data-stat=\"game_location\"></td><td class=\"left\" csk=\"Abilene Christian.2015-09-03\" data-stat=\"loser_school_name\">Abilene Christian</td><td class=\"right\" data-stat=\"loser_points\">13</td><td class=\"left iz\" csk=\"ZZZ\" data-stat=\"notes\"></td></tr>\n"
     ]
    }
   ],
   "source": [
    "# print(soup.prettify())\n",
    "table = soup.find('tbody')\n",
    "\n",
    "for i, n in enumerate(table):\n",
    "    print(i)\n",
    "    print(n)\n",
    "    \n",
    "    if i == 10:\n",
    "        break"
   ]
  },
  {
   "cell_type": "code",
   "execution_count": 178,
   "id": "725d1985-d05a-4573-b301-9920b8124314",
   "metadata": {},
   "outputs": [
    {
     "data": {
      "text/plain": [
       "<tr class=\"ranked\"><th class=\"right\" csk=\"6\" data-stat=\"ranker\" scope=\"row\">6</th><td class=\"right\" csk=\"01.Sep 3, 2015\" data-stat=\"week_number\">1</td><td class=\"left\" csk=\"2015-09-03\" data-stat=\"date_game\"><a href=\"/cfb/boxscores/2015-09-03-fresno-state.html\">Sep 3, 2015</a></td><td class=\"center iz\" data-stat=\"time_game\"></td><td class=\"left\" csk=\"5.2015-09-03\" data-stat=\"day_name\">Thu</td><td class=\"left\" csk=\"Fresno State.2015-09-03\" data-stat=\"winner_school_name\"><a href=\"/cfb/schools/fresno-state/2015.html\">Fresno State</a></td><td class=\"right\" data-stat=\"winner_points\">34</td><td class=\"left iz\" data-stat=\"game_location\"></td><td class=\"left\" csk=\"Abilene Christian.2015-09-03\" data-stat=\"loser_school_name\">Abilene Christian</td><td class=\"right\" data-stat=\"loser_points\">13</td><td class=\"left iz\" csk=\"ZZZ\" data-stat=\"notes\"></td></tr>"
      ]
     },
     "execution_count": 178,
     "metadata": {},
     "output_type": "execute_result"
    }
   ],
   "source": [
    "n\n",
    "\n",
    "# dont want to do this because of hard indexing\n",
    "# [0] # index\n",
    "# [1] # week number\n",
    "# [2:12] # date\n",
    "# [13:15] # dat abbr\n"
   ]
  },
  {
   "cell_type": "code",
   "execution_count": 182,
   "id": "84e41fd6-b8ff-49c6-ab39-55746fef081d",
   "metadata": {},
   "outputs": [
    {
     "name": "stdout",
     "output_type": "stream",
     "text": [
      "1\n",
      "Sep 3, 2015\n",
      "\n",
      "Thu\n",
      "Fresno State\n",
      "34\n",
      "\n",
      "Abilene Christian\n",
      "13\n",
      "\n"
     ]
    }
   ],
   "source": [
    "for i in n.find_all('td'):\n",
    "    print(i.get_text())\n",
    "# just iterate through this & get all the infor\n",
    "\n",
    "# boom bow\n",
    "# week\n",
    "# date\n",
    "# time\n",
    "# day abbr\n",
    "# name\n",
    "# point\n",
    "# @ ?\n",
    "# name\n",
    "# point\n",
    "# notes"
   ]
  },
  {
   "cell_type": "code",
   "execution_count": null,
   "id": "c14b12eb-3e2c-4464-9ae1-f0794e9c2ffe",
   "metadata": {},
   "outputs": [],
   "source": []
  }
 ],
 "metadata": {
  "kernelspec": {
   "display_name": "Python 3 (ipykernel)",
   "language": "python",
   "name": "python3"
  },
  "language_info": {
   "codemirror_mode": {
    "name": "ipython",
    "version": 3
   },
   "file_extension": ".py",
   "mimetype": "text/x-python",
   "name": "python",
   "nbconvert_exporter": "python",
   "pygments_lexer": "ipython3",
   "version": "3.9.5"
  }
 },
 "nbformat": 4,
 "nbformat_minor": 5
}
